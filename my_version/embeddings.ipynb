{
 "cells": [
  {
   "cell_type": "code",
   "execution_count": 61,
   "metadata": {},
   "outputs": [],
   "source": [
    "import pandas as pd"
   ]
  },
  {
   "cell_type": "code",
   "execution_count": 62,
   "metadata": {},
   "outputs": [
    {
     "data": {
      "text/plain": [
       "227"
      ]
     },
     "execution_count": 62,
     "metadata": {},
     "output_type": "execute_result"
    }
   ],
   "source": [
    "df = pd.read_csv('c:\\\\Users\\\\Ken\\\\Documents\\\\GitHub\\\\coursera_rag\\\\requirements_from_acts.csv')\n",
    "df.fillna('blank', inplace=True)  # remove any NaN values as it blows up serialization\n",
    "data = df.to_dict('records')\n",
    "len(data)"
   ]
  },
  {
   "cell_type": "code",
   "execution_count": 63,
   "metadata": {},
   "outputs": [],
   "source": [
    "from qdrant_client import models, QdrantClient\n",
    "from sentence_transformers import SentenceTransformer"
   ]
  },
  {
   "cell_type": "code",
   "execution_count": 64,
   "metadata": {},
   "outputs": [],
   "source": [
    "encoder = SentenceTransformer('all-MiniLM-L6-v2') # Model to create embeddings"
   ]
  },
  {
   "cell_type": "code",
   "execution_count": 65,
   "metadata": {},
   "outputs": [],
   "source": [
    "# create the vector database client\n",
    "qdrant = QdrantClient(\":memory:\") # Create in-memory Qdrant instance"
   ]
  },
  {
   "cell_type": "code",
   "execution_count": 66,
   "metadata": {},
   "outputs": [
    {
     "data": {
      "text/plain": [
       "True"
      ]
     },
     "execution_count": 66,
     "metadata": {},
     "output_type": "execute_result"
    }
   ],
   "source": [
    "# Create collection to store records\n",
    "qdrant.recreate_collection(\n",
    "    collection_name=\"legal_reqts\",\n",
    "    vectors_config=models.VectorParams(\n",
    "        size=encoder.get_sentence_embedding_dimension(), # Vector size is defined by used model\n",
    "        distance=models.Distance.COSINE\n",
    "    )\n",
    ")"
   ]
  },
  {
   "cell_type": "code",
   "execution_count": 67,
   "metadata": {},
   "outputs": [],
   "source": [
    "# vectorize\n",
    "qdrant.upload_points(\n",
    "    collection_name=\"legal_reqts\",\n",
    "    points=[\n",
    "        models.PointStruct(\n",
    "            id=idx,\n",
    "            vector=encoder.encode(doc[\"Essential Requirement\"]).tolist(),\n",
    "            payload=doc,\n",
    "        ) for idx, doc in enumerate(data) # data is the variable holding all the records\n",
    "    ]\n",
    ")"
   ]
  },
  {
   "cell_type": "code",
   "execution_count": 68,
   "metadata": {},
   "outputs": [],
   "source": [
    "# Start the llamafile server\n",
    "\n",
    "import subprocess\n",
    "\n",
    "# Command to start the llamafile server\n",
    "server_process = subprocess.Popen(['C:\\\\Users\\\\Ken\\\\Documents\\\\GitHub\\\\coursera_rag\\\\.venv\\\\llava-v1.5-7b-q4.llamafile.exe'])\n"
   ]
  },
  {
   "cell_type": "code",
   "execution_count": 69,
   "metadata": {},
   "outputs": [],
   "source": [
    "# this is structuring the database search\n",
    "user_prompt = \"Identify all requirements for risk analysis\""
   ]
  },
  {
   "cell_type": "code",
   "execution_count": 70,
   "metadata": {},
   "outputs": [
    {
     "name": "stdout",
     "output_type": "stream",
     "text": [
      "{'ID': 69, 'Document ID': '2006/42/EC', 'Document Title': 'Machinery Directive', 'Annex': 'I', 'Section L1': 1, 'Section L2': 1.0, 'Section L3': 2.0, 'Section L4': '(b)', 'Essential Requirement': '1.1.2.(b) In selecting the most appropriate methods, the manufacturer or his authorised representative must apply the following principles, in the order given: — eliminate or reduce risks as far as possible (inherently safe machinery design and construction), — take the necessary protective measures in relation to risks that cannot be eliminated, — inform users of the residual risks due to any shortcomings of the protective measures adopted, indi\\x02cate whether any particular training is required and specify any need to provide personal protective equipment.'} score: 0.5584695383993481\n",
      "{'ID': 136, 'Document ID': '2006/42/EC', 'Document Title': 'Machinery Directive', 'Annex': 'I', 'Section L1': 1, 'Section L2': 7.0, 'Section L3': 2.0, 'Section L4': 'blank', 'Essential Requirement': '1.7.2. Warning of residual risks Where risks remain despite the inherent safe design measures, safeguarding and complementary protective measures adopted, the necessary warnings, including warning devices, must be provided.'} score: 0.5430282658331704\n",
      "{'ID': 11, 'Document ID': '2023/1230', 'Document Title': 'Machinery Regulation', 'Annex': 'III', 'Section L1': 1, 'Section L2': 1.0, 'Section L3': 2.0, 'Section L4': 'blank', 'Essential Requirement': 'Principles of safety integration\\n(a) Machinery or related products shall be designed and constructed so that they are fit for their function, \\nand can be operated, adjusted and maintained without putting persons at risk when these operations are \\ncarried out under the conditions foreseen but also taking into account any reasonably foreseeable misuse \\nthereof. The aim of protective measures shall be to eliminate any risk throughout the foreseeable lifetime \\nof the machinery or related product including the phases of transport, assembly, dismantling, disabling \\nand scrapping.\\n(b) In selecting the most appropriate methods, the manufacturer shall apply the following principles, in the \\norder given:\\n(i) eliminate hazards or, if that is not possible, minimise risks (inherently safe machinery or related \\nproduct design and construction);\\n(ii) take the necessary protective measures in relation to risks that cannot be eliminated;\\n(iii) inform users of the residual risks due to any shortcomings of the protective measures adopted, \\nindicate whether any particular training is required and specify any need to provide personal \\nprotective equipment.\\n(c) When designing and constructing machinery or a related product and when drafting the instructions for \\nuse, the manufacturer shall envisage not only the intended use of the machinery or related product but \\nalso any reasonably foreseeable misuse thereof. The machinery or related product shall be designed and \\nconstructed in such a way as to prevent abnormal use if such use would engender a risk. Where \\nappropriate, the instructions for use shall draw the user’s attention to ways – which experience has \\nshown might occur – in which the machinery or related product should not be used.\\n(d) Machinery or related products shall be designed and constructed to take account of the constraints to \\nwhich the operator is subject as a result of the necessary or foreseeable use of personal protective \\nequipment.\\n(e) Machinery or related products shall be designed and constructed in such a way that it is possible for the \\nuser, where applicable, to test the safety functions. The machinery or related product shall be supplied \\nwith all the special equipment and accessories, and where appropriate, with the description of specific \\nfunctional test procedures, essential to enable it to be tested, adjusted, maintained and used safely.'} score: 0.5091023399597314\n"
     ]
    }
   ],
   "source": [
    "# Search source\n",
    "\n",
    "hits = qdrant.search(\n",
    "    collection_name=\"legal_reqts\",\n",
    "    query_vector=encoder.encode(user_prompt).tolist(),\n",
    "    limit=3\n",
    ")\n",
    "for hit in hits:\n",
    "  print(hit.payload, \"score:\", hit.score)"
   ]
  },
  {
   "cell_type": "code",
   "execution_count": 71,
   "metadata": {},
   "outputs": [],
   "source": [
    "# define a variable to hold the search results\n",
    "search_results = [hit.payload for hit in hits]"
   ]
  },
  {
   "cell_type": "code",
   "execution_count": 72,
   "metadata": {},
   "outputs": [
    {
     "name": "stdout",
     "output_type": "stream",
     "text": [
      "Output written to file\n"
     ]
    }
   ],
   "source": [
    "# Connect to the local large language model\n",
    "from openai import OpenAI\n",
    "client = OpenAI(\n",
    "    base_url=\"http://127.0.0.1:8080/v1\", # \"http://<Your api-server IP>:port\"\n",
    "    api_key = \"sk-no-key-required\"\n",
    ")\n",
    "\n",
    "completion = client.chat.completions.create(\n",
    "    model=\"LLaMA_CPP\",\n",
    "    messages=[\n",
    "        {\"role\": \"system\", \"content\": \"You are a chatbot, skilled in explaining regulatory requirements for machinery.\"},\n",
    "        {\"role\": \"user\", \"content\": \"Identify requirements for risk analysis as part of CE marking.\"},\n",
    "        {\"role\": \"assistant\", \"content\": str(search_results)}\n",
    "    ]\n",
    ")\n",
    "\n",
    "output_message = completion.choices[0].message\n",
    "import csv\n",
    "\n",
    "# Data to be written to CSV\n",
    "data = [\n",
    "    {\"role\": \"system\", \"content\": \"You are a chatbot, skilled in explaining regulatory requirements for machinery.\"},\n",
    "    {\"role\": \"user\", \"content\": \"Identify requirements for risk analysis as part of CE marking.\"},\n",
    "    {\"role\": output_message.role, \"content\": output_message.content}\n",
    "]\n",
    "# Write data to a CSV file\n",
    "with open(\"C:\\\\Users\\\\Ken\\\\Downloads\\\\output.csv\", \"w\", newline='') as file:\n",
    "    writer = csv.DictWriter(file, fieldnames=[\"role\", \"content\"])\n",
    "    writer.writeheader()\n",
    "    writer.writerows(data)\n",
    "\n",
    "print(\"Output written to file\")"
   ]
  },
  {
   "cell_type": "code",
   "execution_count": 73,
   "metadata": {},
   "outputs": [],
   "source": [
    "# Terminate the llamafile server\n",
    "\n",
    "import signal\n",
    "\n",
    "server_process.send_signal(signal.SIGTERM)"
   ]
  }
 ],
 "metadata": {
  "kernelspec": {
   "display_name": "Python 3",
   "language": "python",
   "name": "python3"
  },
  "language_info": {
   "codemirror_mode": {
    "name": "ipython",
    "version": 3
   },
   "file_extension": ".py",
   "mimetype": "text/x-python",
   "name": "python",
   "nbconvert_exporter": "python",
   "pygments_lexer": "ipython3",
   "version": "3.12.4"
  }
 },
 "nbformat": 4,
 "nbformat_minor": 2
}
