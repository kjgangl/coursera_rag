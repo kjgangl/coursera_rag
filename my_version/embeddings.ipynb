{
 "cells": [
  {
   "cell_type": "code",
   "execution_count": 25,
   "metadata": {},
   "outputs": [],
   "source": [
    "import pandas as pd"
   ]
  },
  {
   "cell_type": "code",
   "execution_count": 26,
   "metadata": {},
   "outputs": [
    {
     "data": {
      "text/plain": [
       "227"
      ]
     },
     "execution_count": 26,
     "metadata": {},
     "output_type": "execute_result"
    }
   ],
   "source": [
    "df = pd.read_csv('c:\\\\Users\\\\Ken\\\\Documents\\\\GitHub\\\\coursera_rag\\\\requirements_from_acts.csv')\n",
    "df.fillna('blank', inplace=True)  # remove any NaN values as it blows up serialization\n",
    "data = df.to_dict('records')\n",
    "len(data)"
   ]
  },
  {
   "cell_type": "code",
   "execution_count": 27,
   "metadata": {},
   "outputs": [],
   "source": [
    "from qdrant_client import models, QdrantClient\n",
    "from sentence_transformers import SentenceTransformer"
   ]
  },
  {
   "cell_type": "code",
   "execution_count": 28,
   "metadata": {},
   "outputs": [],
   "source": [
    "encoder = SentenceTransformer('all-MiniLM-L6-v2') # Model to create embeddings"
   ]
  },
  {
   "cell_type": "code",
   "execution_count": 29,
   "metadata": {},
   "outputs": [],
   "source": [
    "# create the vector database client\n",
    "qdrant = QdrantClient(\":memory:\") # Create in-memory Qdrant instance"
   ]
  },
  {
   "cell_type": "code",
   "execution_count": 30,
   "metadata": {},
   "outputs": [
    {
     "data": {
      "text/plain": [
       "True"
      ]
     },
     "execution_count": 30,
     "metadata": {},
     "output_type": "execute_result"
    }
   ],
   "source": [
    "# Create collection to store records\n",
    "qdrant.recreate_collection(\n",
    "    collection_name=\"legal_reqts\",\n",
    "    vectors_config=models.VectorParams(\n",
    "        size=encoder.get_sentence_embedding_dimension(), # Vector size is defined by used model\n",
    "        distance=models.Distance.COSINE\n",
    "    )\n",
    ")"
   ]
  },
  {
   "cell_type": "code",
   "execution_count": 31,
   "metadata": {},
   "outputs": [],
   "source": [
    "# vectorize\n",
    "qdrant.upload_points(\n",
    "    collection_name=\"legal_reqts\",\n",
    "    points=[\n",
    "        models.PointStruct(\n",
    "            id=idx,\n",
    "            vector=encoder.encode(doc[\"Essential Requirement\"]).tolist(),\n",
    "            payload=doc,\n",
    "        ) for idx, doc in enumerate(data) # data is the variable holding all the records\n",
    "    ]\n",
    ")"
   ]
  },
  {
   "cell_type": "code",
   "execution_count": 33,
   "metadata": {},
   "outputs": [],
   "source": [
    "# structure the database search\n",
    "user_prompt = \"Identify all requirements for risk analysis\""
   ]
  },
  {
   "cell_type": "code",
   "execution_count": 34,
   "metadata": {},
   "outputs": [
    {
     "name": "stdout",
     "output_type": "stream",
     "text": [
      "The 'hits' list has been written to C:\\Users\\Ken\\Downloads\\source.txt.\n"
     ]
    }
   ],
   "source": [
    "# Search source\n",
    "\n",
    "hits = qdrant.search(\n",
    "    collection_name=\"legal_reqts\",\n",
    "    query_vector=encoder.encode(user_prompt).tolist(),\n",
    "    limit=3\n",
    ")\n",
    "\n",
    "# write the list to a file\n",
    "file_path = 'C:\\\\Users\\\\Ken\\\\Downloads\\\\source.txt'\n",
    "\n",
    "with open(file_path, 'w') as file:\n",
    "  for hit in hits:\n",
    "    # print(hit.payload, \"score:\", hit.score)\n",
    "    file.write(str(hit.payload)+','+str(hit.score)+'\\n')\n",
    "\n",
    "print(f\"The 'hits' list has been written to {file_path}.\")"
   ]
  },
  {
   "cell_type": "code",
   "execution_count": 35,
   "metadata": {},
   "outputs": [],
   "source": [
    "# define a variable to hold the search results\n",
    "search_results = [hit.payload for hit in hits]"
   ]
  },
  {
   "cell_type": "code",
   "execution_count": null,
   "metadata": {},
   "outputs": [],
   "source": [
    "# Start the llamafile server\n",
    "\n",
    "import subprocess\n",
    "\n",
    "# Command to start the llamafile server\n",
    "server_process = subprocess.Popen(['C:\\\\Users\\\\Ken\\\\Documents\\\\GitHub\\\\coursera_rag\\\\.venv\\\\llava-v1.5-7b-q4.llamafile.exe'])"
   ]
  },
  {
   "cell_type": "code",
   "execution_count": 36,
   "metadata": {},
   "outputs": [
    {
     "name": "stdout",
     "output_type": "stream",
     "text": [
      "Output written to file\n"
     ]
    }
   ],
   "source": [
    "# Connect to the local large language model\n",
    "from openai import OpenAI\n",
    "client = OpenAI(\n",
    "    base_url=\"http://127.0.0.1:8080/v1\", # \"http://<Your api-server IP>:port\"\n",
    "    api_key = \"sk-no-key-required\"\n",
    ")\n",
    "\n",
    "completion = client.chat.completions.create(\n",
    "    model=\"LLaMA_CPP\",\n",
    "    messages=[\n",
    "        {\"role\": \"system\", \"content\": \"You are a chatbot, skilled in explaining regulatory requirements for machinery.\"},\n",
    "        {\"role\": \"user\", \"content\": \"Identify requirements for risk analysis as part of CE marking.\"},\n",
    "        \n",
    "        {\"role\": \"assistant\", \"content\": str(search_results)}\n",
    "    ]\n",
    ")\n",
    "\n",
    "output_message = completion.choices[0].message\n",
    "import csv\n",
    "\n",
    "# write output to CSV\n",
    "output = [\n",
    "    {\"role\": \"system\", \"content\": \"You are a chatbot, skilled in explaining regulatory requirements for machinery.\"},\n",
    "    {\"role\": \"user\", \"content\": \"Identify requirements for risk analysis as part of CE marking.\"},\n",
    "    {\"role\": output_message.role, \"content\": output_message.content}\n",
    "]\n",
    "# Write data to a CSV file\n",
    "with open(\"C:\\\\Users\\\\Ken\\\\Downloads\\\\output.csv\", \"w\", newline='') as file:\n",
    "    writer = csv.DictWriter(file, fieldnames=[\"role\", \"content\"])\n",
    "    writer.writeheader()\n",
    "    writer.writerows(output)\n",
    "\n",
    "print(\"Output written to file\")"
   ]
  },
  {
   "cell_type": "code",
   "execution_count": 37,
   "metadata": {},
   "outputs": [],
   "source": [
    "# Terminate the llamafile server\n",
    "\n",
    "import signal\n",
    "\n",
    "server_process.send_signal(signal.SIGTERM)"
   ]
  }
 ],
 "metadata": {
  "kernelspec": {
   "display_name": "Python 3",
   "language": "python",
   "name": "python3"
  },
  "language_info": {
   "codemirror_mode": {
    "name": "ipython",
    "version": 3
   },
   "file_extension": ".py",
   "mimetype": "text/x-python",
   "name": "python",
   "nbconvert_exporter": "python",
   "pygments_lexer": "ipython3",
   "version": "3.12.4"
  }
 },
 "nbformat": 4,
 "nbformat_minor": 2
}
