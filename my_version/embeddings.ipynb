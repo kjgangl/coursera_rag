{
 "cells": [
  {
   "cell_type": "code",
   "execution_count": 1,
   "metadata": {},
   "outputs": [],
   "source": [
    "import os\n",
    "os.chdir(r'c:\\Users\\Ken\\Documents\\GitHub\\coursera_rag')\n"
   ]
  },
  {
   "cell_type": "code",
   "execution_count": 2,
   "metadata": {},
   "outputs": [
    {
     "name": "stderr",
     "output_type": "stream",
     "text": [
      "C:\\Users\\Ken\\AppData\\Local\\Temp\\ipykernel_12996\\2978276498.py:3: FutureWarning: Setting an item of incompatible dtype is deprecated and will raise an error in a future version of pandas. Value 'blank' has dtype incompatible with float64, please explicitly cast to a compatible dtype first.\n",
      "  df.fillna('blank', inplace=True)  # remove any NaN values as it blows up serialization\n"
     ]
    },
    {
     "data": {
      "text/plain": [
       "227"
      ]
     },
     "execution_count": 2,
     "metadata": {},
     "output_type": "execute_result"
    }
   ],
   "source": [
    "import pandas as pd\n",
    "df = pd.read_csv('requirements_from_acts.csv')\n",
    "df.fillna('blank', inplace=True)  # remove any NaN values as it blows up serialization\n",
    "data = df.to_dict('records')\n",
    "len(data)"
   ]
  },
  {
   "cell_type": "code",
   "execution_count": 3,
   "metadata": {},
   "outputs": [
    {
     "name": "stderr",
     "output_type": "stream",
     "text": [
      "C:\\Users\\Ken\\AppData\\Local\\Packages\\PythonSoftwareFoundation.Python.3.12_qbz5n2kfra8p0\\LocalCache\\local-packages\\Python312\\site-packages\\sentence_transformers\\cross_encoder\\CrossEncoder.py:11: TqdmWarning: IProgress not found. Please update jupyter and ipywidgets. See https://ipywidgets.readthedocs.io/en/stable/user_install.html\n",
      "  from tqdm.autonotebook import tqdm, trange\n"
     ]
    }
   ],
   "source": [
    "from qdrant_client import models, QdrantClient\n",
    "from sentence_transformers import SentenceTransformer"
   ]
  },
  {
   "cell_type": "code",
   "execution_count": 4,
   "metadata": {},
   "outputs": [
    {
     "name": "stderr",
     "output_type": "stream",
     "text": [
      "C:\\Users\\Ken\\AppData\\Local\\Packages\\PythonSoftwareFoundation.Python.3.12_qbz5n2kfra8p0\\LocalCache\\local-packages\\Python312\\site-packages\\huggingface_hub\\file_download.py:159: UserWarning: `huggingface_hub` cache-system uses symlinks by default to efficiently store duplicated files but your machine does not support them in C:\\Users\\Ken\\.cache\\huggingface\\hub\\models--sentence-transformers--all-MiniLM-L6-v2. Caching files will still work but in a degraded version that might require more space on your disk. This warning can be disabled by setting the `HF_HUB_DISABLE_SYMLINKS_WARNING` environment variable. For more details, see https://huggingface.co/docs/huggingface_hub/how-to-cache#limitations.\n",
      "To support symlinks on Windows, you either need to activate Developer Mode or to run Python as an administrator. In order to see activate developer mode, see this article: https://docs.microsoft.com/en-us/windows/apps/get-started/enable-your-device-for-development\n",
      "  warnings.warn(message)\n"
     ]
    }
   ],
   "source": [
    "encoder = SentenceTransformer('all-MiniLM-L6-v2') # Model to create embeddings"
   ]
  },
  {
   "cell_type": "code",
   "execution_count": 6,
   "metadata": {},
   "outputs": [],
   "source": [
    "# create the vector database client\n",
    "qdrant = QdrantClient(\":memory:\") # Create in-memory Qdrant instance"
   ]
  },
  {
   "cell_type": "code",
   "execution_count": 9,
   "metadata": {},
   "outputs": [
    {
     "name": "stderr",
     "output_type": "stream",
     "text": [
      "C:\\Users\\Ken\\AppData\\Local\\Temp\\ipykernel_12996\\2027838554.py:2: DeprecationWarning: `recreate_collection` method is deprecated and will be removed in the future. Use `collection_exists` to check collection existence and `create_collection` instead.\n",
      "  qdrant.recreate_collection(\n"
     ]
    },
    {
     "data": {
      "text/plain": [
       "True"
      ]
     },
     "execution_count": 9,
     "metadata": {},
     "output_type": "execute_result"
    }
   ],
   "source": [
    "# Create collection to store records\n",
    "qdrant.recreate_collection(\n",
    "    collection_name=\"legal_reqts\",\n",
    "    vectors_config=models.VectorParams(\n",
    "        size=encoder.get_sentence_embedding_dimension(), # Vector size is defined by used model\n",
    "        distance=models.Distance.COSINE\n",
    "    )\n",
    ")"
   ]
  },
  {
   "cell_type": "code",
   "execution_count": 13,
   "metadata": {},
   "outputs": [],
   "source": [
    "# vectorize\n",
    "qdrant.upload_points(\n",
    "    collection_name=\"legal_reqts\",\n",
    "    points=[\n",
    "        models.PointStruct(\n",
    "            id=idx,\n",
    "            vector=encoder.encode(doc[\"Essential Requirement\"]).tolist(),\n",
    "            payload=doc,\n",
    "        ) for idx, doc in enumerate(data) # data is the variable holding all the records\n",
    "    ]\n",
    ")"
   ]
  },
  {
   "cell_type": "code",
   "execution_count": 14,
   "metadata": {},
   "outputs": [],
   "source": [
    "user_prompt = \"Identify all requirements for risk analysis\""
   ]
  },
  {
   "cell_type": "code",
   "execution_count": 15,
   "metadata": {},
   "outputs": [
    {
     "name": "stdout",
     "output_type": "stream",
     "text": [
      "{'ID': 69, 'Document ID': '2006/42/EC', 'Document Title': 'Machinery Directive', 'Annex': 'I', 'Section L1': 1, 'Section L2': 1.0, 'Section L3': 2.0, 'Section L4': '(b)', 'Essential Requirement': '1.1.2.(b) In selecting the most appropriate methods, the manufacturer or his authorised representative must apply the following principles, in the order given: — eliminate or reduce risks as far as possible (inherently safe machinery design and construction), — take the necessary protective measures in relation to risks that cannot be eliminated, — inform users of the residual risks due to any shortcomings of the protective measures adopted, indi\\x02cate whether any particular training is required and specify any need to provide personal protective equipment.'} score: 0.5584695383993481\n",
      "{'ID': 136, 'Document ID': '2006/42/EC', 'Document Title': 'Machinery Directive', 'Annex': 'I', 'Section L1': 1, 'Section L2': 7.0, 'Section L3': 2.0, 'Section L4': 'blank', 'Essential Requirement': '1.7.2. Warning of residual risks Where risks remain despite the inherent safe design measures, safeguarding and complementary protective measures adopted, the necessary warnings, including warning devices, must be provided.'} score: 0.5430282658331704\n",
      "{'ID': 11, 'Document ID': '2023/1230', 'Document Title': 'Machinery Regulation', 'Annex': 'III', 'Section L1': 1, 'Section L2': 1.0, 'Section L3': 2.0, 'Section L4': 'blank', 'Essential Requirement': 'Principles of safety integration\\n(a) Machinery or related products shall be designed and constructed so that they are fit for their function, \\nand can be operated, adjusted and maintained without putting persons at risk when these operations are \\ncarried out under the conditions foreseen but also taking into account any reasonably foreseeable misuse \\nthereof. The aim of protective measures shall be to eliminate any risk throughout the foreseeable lifetime \\nof the machinery or related product including the phases of transport, assembly, dismantling, disabling \\nand scrapping.\\n(b) In selecting the most appropriate methods, the manufacturer shall apply the following principles, in the \\norder given:\\n(i) eliminate hazards or, if that is not possible, minimise risks (inherently safe machinery or related \\nproduct design and construction);\\n(ii) take the necessary protective measures in relation to risks that cannot be eliminated;\\n(iii) inform users of the residual risks due to any shortcomings of the protective measures adopted, \\nindicate whether any particular training is required and specify any need to provide personal \\nprotective equipment.\\n(c) When designing and constructing machinery or a related product and when drafting the instructions for \\nuse, the manufacturer shall envisage not only the intended use of the machinery or related product but \\nalso any reasonably foreseeable misuse thereof. The machinery or related product shall be designed and \\nconstructed in such a way as to prevent abnormal use if such use would engender a risk. Where \\nappropriate, the instructions for use shall draw the user’s attention to ways – which experience has \\nshown might occur – in which the machinery or related product should not be used.\\n(d) Machinery or related products shall be designed and constructed to take account of the constraints to \\nwhich the operator is subject as a result of the necessary or foreseeable use of personal protective \\nequipment.\\n(e) Machinery or related products shall be designed and constructed in such a way that it is possible for the \\nuser, where applicable, to test the safety functions. The machinery or related product shall be supplied \\nwith all the special equipment and accessories, and where appropriate, with the description of specific \\nfunctional test procedures, essential to enable it to be tested, adjusted, maintained and used safely.'} score: 0.5091023399597314\n"
     ]
    }
   ],
   "source": [
    "# Search source\n",
    "\n",
    "hits = qdrant.search(\n",
    "    collection_name=\"legal_reqts\",\n",
    "    query_vector=encoder.encode(user_prompt).tolist(),\n",
    "    limit=3\n",
    ")\n",
    "for hit in hits:\n",
    "  print(hit.payload, \"score:\", hit.score)"
   ]
  },
  {
   "cell_type": "code",
   "execution_count": 16,
   "metadata": {},
   "outputs": [],
   "source": [
    "# define a variable to hold the search results\n",
    "search_results = [hit.payload for hit in hits]"
   ]
  },
  {
   "cell_type": "code",
   "execution_count": 17,
   "metadata": {},
   "outputs": [
    {
     "ename": "ModuleNotFoundError",
     "evalue": "No module named 'openai'",
     "output_type": "error",
     "traceback": [
      "\u001b[1;31m---------------------------------------------------------------------------\u001b[0m",
      "\u001b[1;31mModuleNotFoundError\u001b[0m                       Traceback (most recent call last)",
      "Cell \u001b[1;32mIn[17], line 2\u001b[0m\n\u001b[0;32m      1\u001b[0m \u001b[38;5;66;03m# Connect to the local large language model\u001b[39;00m\n\u001b[1;32m----> 2\u001b[0m \u001b[38;5;28;01mfrom\u001b[39;00m \u001b[38;5;21;01mopenai\u001b[39;00m \u001b[38;5;28;01mimport\u001b[39;00m OpenAI\n\u001b[0;32m      3\u001b[0m client \u001b[38;5;241m=\u001b[39m OpenAI(\n\u001b[0;32m      4\u001b[0m     base_url\u001b[38;5;241m=\u001b[39m\u001b[38;5;124m\"\u001b[39m\u001b[38;5;124mhttp://127.0.0.1:8080/v1\u001b[39m\u001b[38;5;124m\"\u001b[39m, \u001b[38;5;66;03m# \"http://<Your api-server IP>:port\"\u001b[39;00m\n\u001b[0;32m      5\u001b[0m     api_key \u001b[38;5;241m=\u001b[39m \u001b[38;5;124m\"\u001b[39m\u001b[38;5;124msk-no-key-required\u001b[39m\u001b[38;5;124m\"\u001b[39m\n\u001b[0;32m      6\u001b[0m )\n\u001b[0;32m      7\u001b[0m completion \u001b[38;5;241m=\u001b[39m client\u001b[38;5;241m.\u001b[39mchat\u001b[38;5;241m.\u001b[39mcompletions\u001b[38;5;241m.\u001b[39mcreate(\n\u001b[0;32m      8\u001b[0m     model\u001b[38;5;241m=\u001b[39m\u001b[38;5;124m\"\u001b[39m\u001b[38;5;124mLLaMA_CPP\u001b[39m\u001b[38;5;124m\"\u001b[39m,\n\u001b[0;32m      9\u001b[0m     messages\u001b[38;5;241m=\u001b[39m[\n\u001b[1;32m   (...)\u001b[0m\n\u001b[0;32m     13\u001b[0m     ]\n\u001b[0;32m     14\u001b[0m )\n",
      "\u001b[1;31mModuleNotFoundError\u001b[0m: No module named 'openai'"
     ]
    }
   ],
   "source": [
    "# Connect to the local large language model\n",
    "from openai import OpenAI\n",
    "client = OpenAI(\n",
    "    base_url=\"http://127.0.0.1:8080/v1\", # \"http://<Your api-server IP>:port\"\n",
    "    api_key = \"sk-no-key-required\"\n",
    ")\n",
    "completion = client.chat.completions.create(\n",
    "    model=\"LLaMA_CPP\",\n",
    "    messages=[\n",
    "        {\"role\": \"system\", \"content\": \"You are chatbot, a wine specialist. Your top priority is to help guide users into selecting amazing wine and guide them with their requests.\"},\n",
    "        {\"role\": \"user\", \"content\": \"Suggest me an amazing Malbec wine from Argentina\"},\n",
    "        {\"role\": \"assistant\", \"content\": str(search_results)}\n",
    "    ]\n",
    ")\n",
    "print(completion.choices[0].message)"
   ]
  }
 ],
 "metadata": {
  "kernelspec": {
   "display_name": "Python 3",
   "language": "python",
   "name": "python3"
  },
  "language_info": {
   "codemirror_mode": {
    "name": "ipython",
    "version": 3
   },
   "file_extension": ".py",
   "mimetype": "text/x-python",
   "name": "python",
   "nbconvert_exporter": "python",
   "pygments_lexer": "ipython3",
   "version": "3.12.4"
  }
 },
 "nbformat": 4,
 "nbformat_minor": 2
}
